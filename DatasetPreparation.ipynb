{
 "cells": [
  {
   "cell_type": "markdown",
   "metadata": {},
   "source": [
    "## Import Libraries"
   ]
  },
  {
   "cell_type": "code",
   "execution_count": 42,
   "metadata": {},
   "outputs": [],
   "source": [
    "import glob\n",
    "import os\n",
    "from decimal import Decimal\n"
   ]
  },
  {
   "cell_type": "markdown",
   "metadata": {},
   "source": [
    "## Set Paths"
   ]
  },
  {
   "cell_type": "code",
   "execution_count": 43,
   "metadata": {},
   "outputs": [],
   "source": [
    "# It is the path to the directory where all images are stored\n",
    "image_dir ='TrafficSign_Dataset/Images'\n",
    "\n",
    "# It is the path to the directory where all text files corresponding to the images are stored\n",
    "file_dir ='C:\\\\Users\\\\Hp\\\\Downloads\\\\Data\\\\Data\\\\labels' \n"
   ]
  },
  {
   "cell_type": "code",
   "execution_count": 44,
   "metadata": {},
   "outputs": [
    {
     "name": "stdout",
     "output_type": "stream",
     "text": [
      "C:\\Users\\Hp\\Downloads\\Data\\Data\n"
     ]
    }
   ],
   "source": [
    "print(os.getcwd())\n",
    "current_dir ='C:\\\\Users\\\\Hp\\\\Downloads\\\\Data\\\\Data\\\\Images' # PATH TO IMAGE DIRECTORY\n"
   ]
  },
  {
   "cell_type": "markdown",
   "metadata": {},
   "source": [
    "## Conversion of x_centre, y_centre, height , width "
   ]
  },
  {
   "cell_type": "markdown",
   "metadata": {},
   "source": [
    "The original dataset is in accordance to the darknet YOLO format which contains the bounded boxes in this format:  \n",
    "\n",
    "        x_centre, y_centre, height, width, label\n",
    "\n",
    "But we need to convert it into Keras YOLO format which is:  \n",
    "\n",
    "        label  x_min  y_min  x_max  y_max\n",
    "\n",
    "The equations we created are:\n",
    "\n",
    "  \n",
    "        y_max = (1600 * y_centre) + ( 800 * height ) / 2\n",
    "\n",
    "        y_min = 1600 * x_centre - y_max\n",
    "\n",
    "\n",
    "        x_max = ( x_centre * 2720) + ( width * 1360) / 2\n",
    "\n",
    "        x_min = x_centre * 2720 - x_max"
   ]
  },
  {
   "cell_type": "code",
   "execution_count": 45,
   "metadata": {},
   "outputs": [],
   "source": [
    "#Storing all files\n",
    "files = {}\n",
    "dirs = os.listdir(file_dir)\n",
    "\n",
    "for filename in dirs:\n",
    "    file = open(os.path.join(file_dir, filename), 'r')\n",
    "    files[filename] = file.read() \n",
    "    file.close()\n",
    "\n",
    "#This dictionary will contain the bounded boxes in Keras YOLO format\n",
    "conversion = dict()\n",
    "\n",
    "for key,value in files.items():\n",
    "    lines = str.splitlines(value)\n",
    "    for line in lines:\n",
    "        sepline = line.split()\n",
    "        label = sepline[0]\n",
    "        x_centre = Decimal(sepline[1])\n",
    "        y_centre = Decimal(sepline[2])\n",
    "        width = Decimal(sepline[3])\n",
    "        height = Decimal(sepline[4])\n",
    "        ymax = int(((1600*y_centre) + (800*height)) / 2)\n",
    "        ymin = int(1600*y_centre - ymax)\n",
    "        xmax = int(((x_centre*2720) + (width*1360)) / 2)\n",
    "        xmin = int(x_centre*2720-xmax)\n",
    "        # If the key appears first time then create a new key\n",
    "        if key not in conversion.keys():\n",
    "            conversion[key] = [str(xmin)+\",\"+str(ymin)+\",\"+str(xmax)+\",\"+str(ymax)+\",\"+str(label)]\n",
    "        # If the key already exists then append in the existing key\n",
    "        else:\n",
    "            conversion[key].append(str(xmin)+\",\"+str(ymin)+\",\"+str(xmax)+\",\"+str(ymax)+\",\"+str(label))\n"
   ]
  },
  {
   "cell_type": "markdown",
   "metadata": {},
   "source": [
    "# Storing Bounded boxes along with Path"
   ]
  },
  {
   "cell_type": "markdown",
   "metadata": {},
   "source": [
    "In the code below, we are performing two tasks:\n",
    "\n",
    "1. Creating a train and test split for model training and predictions\n",
    "2. Creating text files to store bounded boxes in each image along with their paths\n"
   ]
  },
  {
   "cell_type": "code",
   "execution_count": 46,
   "metadata": {},
   "outputs": [],
   "source": [
    "# Percentage of images to be used for the test set\n",
    "percentage_test = 10;\n",
    "\n",
    "# Create train.txt and test.txt\n",
    "file_train = open('train.txt', 'w')  \n",
    "file_test = open('test.txt', 'w')\n",
    "# Populate train.txt and test.txt\n",
    "counter = 1  \n",
    "index_test = round(100 / percentage_test) \n",
    "\n",
    "for file in glob.iglob(os.path.join(current_dir, '*.jpg')):  \n",
    "    title, ext = os.path.splitext(os.path.basename(file))\n",
    "    if counter == index_test:\n",
    "        counter = 1\n",
    "        str1 = \" \"\n",
    "        file_test.write(image_dir + \"/\" + title + '.jpg' +\" \"+ str1.join(conversion[title+'.txt']) + \"\\n\")\n",
    "    else:\n",
    "        str1 = \" \"\n",
    "        file_train.write(image_dir + \"/\" + title + '.jpg' +\" \"+ str1.join(conversion[title+'.txt']) + \"\\n\")\n",
    "        counter = counter + 1\n",
    "file_train.close()\n",
    "file_test.close()\n"
   ]
  },
  {
   "cell_type": "code",
   "execution_count": null,
   "metadata": {},
   "outputs": [],
   "source": []
  }
 ],
 "metadata": {
  "kernelspec": {
   "display_name": "Python 3",
   "language": "python",
   "name": "python3"
  },
  "language_info": {
   "codemirror_mode": {
    "name": "ipython",
    "version": 3
   },
   "file_extension": ".py",
   "mimetype": "text/x-python",
   "name": "python",
   "nbconvert_exporter": "python",
   "pygments_lexer": "ipython3",
   "version": "3.7.7"
  }
 },
 "nbformat": 4,
 "nbformat_minor": 4
}
