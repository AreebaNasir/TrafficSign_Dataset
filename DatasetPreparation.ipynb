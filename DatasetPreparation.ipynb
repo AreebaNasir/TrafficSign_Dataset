{
 "cells": [
  {
   "cell_type": "markdown",
   "metadata": {},
   "source": [
    "## Import Libraries"
   ]
  },
  {
   "cell_type": "code",
   "execution_count": 1,
   "metadata": {},
   "outputs": [],
   "source": [
    "import glob\n",
    "import os\n",
    "import cv2\n",
    "from decimal import Decimal\n"
   ]
  },
  {
   "cell_type": "markdown",
   "metadata": {},
   "source": [
    "## Set Paths"
   ]
  },
  {
   "cell_type": "code",
   "execution_count": 2,
   "metadata": {},
   "outputs": [],
   "source": [
    "image_dir ='/home/zeela/keras-yolo3/Data/Images'\n",
    "file_dir ='/home/zeela/keras-yolo3/Data/labels'"
   ]
  },
  {
   "cell_type": "code",
   "execution_count": 3,
   "metadata": {},
   "outputs": [
    {
     "name": "stdout",
     "output_type": "stream",
     "text": [
      "(800, 1360, 3)\n",
      "<class 'tuple'>\n"
     ]
    }
   ],
   "source": [
    "os.getcwd()\n",
    "current_dir ='/home/zeela/keras-yolo3/Data/Images/00011.jpg' # PATH TO IMAGE DIRECTORY\n",
    "im = cv2.imread(current_dir)\n",
    "print(im.shape)\n",
    "print(type(im.shape))"
   ]
  },
  {
   "cell_type": "markdown",
   "metadata": {},
   "source": [
    "## Conversion of x_centre, y_centre, height , width "
   ]
  },
  {
   "cell_type": "code",
   "execution_count": 25,
   "metadata": {},
   "outputs": [
    {
     "name": "stdout",
     "output_type": "stream",
     "text": [
      "['1010,430,1033,455,4', '474,389,500,415,0']\n"
     ]
    }
   ],
   "source": [
    "#Storing all files\n",
    "files = {}\n",
    "dirs = os.listdir(file_dir)\n",
    "\n",
    "for filename in dirs:\n",
    "    file = open(os.path.join(file_dir, filename), 'r')\n",
    "    files[filename] = file.read() \n",
    "    file.close()\n",
    "\n",
    "conversion = dict()\n",
    "\n",
    "for key,value in files.items():\n",
    "    lines = str.splitlines(value)\n",
    "    for line in lines:\n",
    "        sepline = line.split()\n",
    "        label = sepline[0]\n",
    "        x_centre = Decimal(sepline[1])\n",
    "        y_centre = Decimal(sepline[2])\n",
    "        width = Decimal(sepline[3])\n",
    "        height = Decimal(sepline[4])\n",
    "        ymax = int(((1600*y_centre) + (800*height)) / 2)\n",
    "        ymin = int(1600*y_centre - ymax)\n",
    "        xmax = int(((x_centre*2720) + (width*1360)) / 2)\n",
    "        xmin = int(x_centre*2720-xmax)\n",
    "        if key not in conversion.keys():\n",
    "            conversion[key] = [str(xmin)+\",\"+str(ymin)+\",\"+str(xmax)+\",\"+str(ymax)+\",\"+str(label)]\n",
    "        else:\n",
    "            conversion[key].append(str(xmin)+\",\"+str(ymin)+\",\"+str(xmax)+\",\"+str(ymax)+\",\"+str(label))\n"
   ]
  },
  {
   "cell_type": "markdown",
   "metadata": {},
   "source": [
    "# Storing Bounded boxes along with Path"
   ]
  },
  {
   "cell_type": "code",
   "execution_count": 34,
   "metadata": {},
   "outputs": [],
   "source": [
    "# Percentage of images to be used for the valid set\n",
    "percentage_test = 10;\n",
    "\n",
    "# Create train.txt and valid.txt\n",
    "file_train = open('train.txt', 'w')  \n",
    "file_test = open('valid.txt', 'w')\n",
    "# Populate train.txt and valid.txt\n",
    "counter = 1  \n",
    "index_test = round(100 / percentage_test) \n",
    "\n",
    "for file in glob.iglob(os.path.join(current_dir, '*.jpg')):  \n",
    "    title, ext = os.path.splitext(os.path.basename(file))\n",
    "    if counter == index_test:\n",
    "        counter = 1\n",
    "        str1 = \" \"\n",
    "        file_test.write(image_dir + \"/\" + title + '.jpg' +\" \"+ str1.join(conversion[title+'.txt']) + \"\\n\")\n",
    "    else:\n",
    "        str1 = \" \"\n",
    "        file_train.write(image_dir + \"/\" + title + '.jpg' +\" \"+ str1.join(conversion[title+'.txt']) + \"\\n\")\n",
    "        counter = counter + 1\n",
    "file_train.close()\n",
    "file_test.close()"
   ]
  },
  {
   "cell_type": "code",
   "execution_count": null,
   "metadata": {},
   "outputs": [],
   "source": []
  }
 ],
 "metadata": {
  "kernelspec": {
   "display_name": "Python 3",
   "language": "python",
   "name": "python3"
  },
  "language_info": {
   "codemirror_mode": {
    "name": "ipython",
    "version": 3
   },
   "file_extension": ".py",
   "mimetype": "text/x-python",
   "name": "python",
   "nbconvert_exporter": "python",
   "pygments_lexer": "ipython3",
   "version": "3.7.7"
  }
 },
 "nbformat": 4,
 "nbformat_minor": 4
}
